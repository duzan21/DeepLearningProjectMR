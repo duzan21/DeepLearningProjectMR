{
  "nbformat": 4,
  "nbformat_minor": 0,
  "metadata": {
    "kernelspec": {
      "name": "python3",
      "display_name": "Python 3"
    },
    "colab": {
      "name": "Noam.ipynb",
      "provenance": [],
      "collapsed_sections": [],
      "include_colab_link": true
    },
    "accelerator": "GPU"
  },
  "cells": [
    {
      "cell_type": "markdown",
      "metadata": {
        "id": "view-in-github",
        "colab_type": "text"
      },
      "source": [
        "<a href=\"https://colab.research.google.com/github/duzan21/DeepLearningProjectMR/blob/develop/Noam.ipynb\" target=\"_parent\"><img src=\"https://colab.research.google.com/assets/colab-badge.svg\" alt=\"Open In Colab\"/></a>"
      ]
    },
    {
      "cell_type": "code",
      "metadata": {
        "id": "JDDHwlkITsiP",
        "cellView": "form"
      },
      "source": [
        "#@title Hyperparams\n",
        "\n",
        "loadTrainedModel =  True #@param {type:\"boolean\"}\n",
        "action = \"Show trained results\" #@param [\"Show trained results\", \"Analyze model history\"]\n",
        "networkType = \"VGG\"#@param [\"CNN2\",\"CNN2_FFT\", \"CNN2_ENSEMBLE\", \"VGG\", \"VGG_ENSEMBLE\"]\n",
        "dataSet = 'RML2016.10a_dict'#@param [\"RML2016.10a_dict\", \"2016.04C.multisnr\"]\n",
        "\n",
        "learningRate = 0.0002 #@param {type:\"slider\", min:0.00001, max:0.0005, step:0.00001}\n",
        "num_epochs = 1#@param {type:\"slider\", min:1, max:200, step:1}\n",
        "epochStart = 0\n",
        "dropout = 0.5 #@param {type:\"slider\", min:0, max:1, step:0.1}\n",
        "batch_size =  1024#@param {type:\"integer\"}\n",
        "\n",
        "rootDir = '/content/drive/My Drive/Deep Learning course 2020/Proj/'\n",
        "SEED =  203142260 + 305773673\n",
        "\n",
        "vggChannels = 1024\n",
        "beta1 = 0.5\n",
        "beta2 = 0.999\n",
        "\n",
        "\n"
      ],
      "execution_count": null,
      "outputs": []
    },
    {
      "cell_type": "code",
      "metadata": {
        "id": "xJRDSVrY7uGv",
        "cellView": "form",
        "outputId": "c1fde11a-2ceb-4dcf-e020-337d2d2d2def",
        "colab": {
          "base_uri": "https://localhost:8080/",
          "height": 34
        }
      },
      "source": [
        "#@title imports and mount google drive\n",
        "\n",
        "%matplotlib inline\n",
        "import os,random,sys\n",
        "import numpy as np\n",
        "from collections import Counter\n",
        "import torch.nn as nn\n",
        "import torch.nn.parallel\n",
        "import torch.backends.cudnn as cudnn\n",
        "import torch.optim as optim\n",
        "import torch.utils.data\n",
        "import torchvision.datasets as dset\n",
        "import torchvision.transforms as transforms\n",
        "import torch.nn.functional as F\n",
        "from torchsummary import summary\n",
        "device = torch.device(\"cuda\") \n",
        "\n",
        "import matplotlib.pyplot as plt\n",
        "import time\n",
        "from glob import glob\n",
        "import re\n",
        "\n",
        "# In Python 2, cPickle is the accelerated version of pickle, and a later addition to thestandard library.\n",
        "# It was perfectly normal to import it with a fallback to pickle. In Python 3 the accelerated version has been integrated\n",
        "# and there is simply no reason to use anything other than import pickle\n",
        "import pickle\n",
        "\n",
        "from google.colab import drive\n",
        "drive.mount('/content/drive')\n",
        "root = rootDir\n",
        "device = torch.device(\"cuda:0\" if torch.cuda.is_available() else \"cpu\")\n"
      ],
      "execution_count": null,
      "outputs": [
        {
          "output_type": "stream",
          "text": [
            "Drive already mounted at /content/drive; to attempt to forcibly remount, call drive.mount(\"/content/drive\", force_remount=True).\n"
          ],
          "name": "stdout"
        }
      ]
    },
    {
      "cell_type": "markdown",
      "metadata": {
        "id": "eyD4scXw7uG2"
      },
      "source": [
        "# Dataset setup"
      ]
    },
    {
      "cell_type": "code",
      "metadata": {
        "id": "YYz8QqbJ7uG3",
        "cellView": "form"
      },
      "source": [
        "#@title Dataset setup and FFT preprocess\n",
        "\n",
        "def IQ2Complex(iqArray):\n",
        "  return iqArray[:,0,:] + 1j*iqArray[:,1,:]\n",
        "def Complex2IQ(complexArray):\n",
        "  I = np.real(complexArray)\n",
        "  Q = np.imag(complexArray)\n",
        "  return np.concatenate((I[:,np.newaxis,:], Q[:,np.newaxis,:]), axis=1)\n",
        "\n",
        "\n",
        "def load_dataset():\n",
        "  global Xd, snrs, mods, X, lbl, XComplex, fftXComplex, fftX_IQ\n",
        "\n",
        "  Xd = pickle.load(open(root + dataSet + \".pkl\",'rb'), encoding=\"latin1\")\n",
        "  snrs, mods = map(lambda j: sorted(list(set(map(lambda x: x[j], Xd.keys())))), [1,0])\n",
        "  X = []  \n",
        "  lbl = []\n",
        "  for mod in mods:\n",
        "      for snr in snrs:\n",
        "          X.append(Xd[(mod,snr)])\n",
        "          for i in range(Xd[(mod,snr)].shape[0]):  lbl.append((mod,snr))\n",
        "  X = np.vstack(X)\n",
        "  XComplex = IQ2Complex(X)\n",
        "  fftXComplex = np.fft.fft(XComplex)\n",
        "  fftX_IQ = np.array(Complex2IQ(fftXComplex), dtype=np.float32)\n",
        "\n",
        "load_dataset()\n",
        "\n",
        "'''\n",
        "X: (N, 2, 128). for each of the N=220,000 examples, there is a 128-long measurement of I/Q samples.\n",
        "mods: ['8PSK', 'AM-DSB', 'AM-SSB', 'BPSK', 'CPFSK', 'GFSK', 'PAM4', 'QAM16', 'QAM64', 'QPSK', 'WBFM']\n",
        "lbl: list of tuples, each of the pattern ('GFSK', -20)\n",
        "'''\n",
        "\n",
        "def plot_modulation_pdf():\n",
        "  counterLbl = Counter(lbl)\n",
        "  for snr in [snrs[0]]:\n",
        "    lblSnr = {}\n",
        "    for mod in mods:\n",
        "      lblSnr[mod] = counterLbl[(mod, snr)]\n",
        "    print(lblSnr)\n",
        "    ticks = range(0, 10*len(lblSnr.values()), 10)\n",
        "    plt.figure(figsize=(10, 3))  # width:10, height:8\n",
        "    plt.bar(ticks,lblSnr.values(), align='center', width=1, )\n",
        "    plt.xticks(ticks, lblSnr.keys())\n",
        "    plt.show()\n",
        "\n",
        "# plot_modulation_pdf()"
      ],
      "execution_count": null,
      "outputs": []
    },
    {
      "cell_type": "code",
      "metadata": {
        "id": "HLKLxKgc72YG",
        "cellView": "form"
      },
      "source": [
        "#@title Dataset partition\n",
        "# Partition the data\n",
        "#  into training and test sets of the form we can train/test on \n",
        "#  while keeping SNR and Mod labels handy for each\n",
        "\n",
        "def partition_dataset():\n",
        "  global X, n_examples, n_train, train_idx, test_idx, X_train, X_FFT_test, X_test, X_FFT_test, Y_train, Y_test, test_SNRs, num_batches, epoch_size, isVGG, isEnsemble\n",
        "\n",
        "  if networkType is \"CNN2_FFT\":\n",
        "    X = np.concatenate((X, fftX_IQ), axis=1)\n",
        "  # print(X.shape)\n",
        "  # print(fftX_IQ.shape)\n",
        "  # print(X.dtype)\n",
        "  # print(fftX_IQ.dtype)\n",
        "  # print(Counter(lbl))\n",
        "  isVGG = False\n",
        "  isEnsemble = False\n",
        "  if networkType is not \"CNN2_FFT\":\n",
        "    if \"VGG\" in networkType:\n",
        "      isVGG = True\n",
        "    if \"ENSEMBLE\" in networkType:\n",
        "      isEnsemble = True\n",
        "\n",
        "  np.random.seed(SEED)\n",
        "  n_examples = X.shape[0]  # 220,000 C:162060\n",
        "  n_train = int(n_examples * 0.6)  # 110,000 C:97236\n",
        "  train_idx = np.random.choice(range(0,n_examples), size=n_train, replace=False)\n",
        "  test_idx = list(set(range(0,n_examples))-set(train_idx))\n",
        "  X_train = X[train_idx]\n",
        "  X_FFT_train = fftX_IQ[train_idx]\n",
        "  X_test =  X[test_idx]\n",
        "  X_FFT_test = fftX_IQ[test_idx]\n",
        "\n",
        "  Y_train = np.array(list(map(lambda x: mods.index(lbl[x][0]), train_idx)))\n",
        "  Y_test = np.array(list(map(lambda x: mods.index(lbl[x][0]), test_idx)))\n",
        "\n",
        "  test_SNRs = np.array(list(map(lambda x: lbl[x][1], test_idx)))\n",
        "\n",
        "\n",
        "  \n",
        "  # print(f'examples: {n_examples}, train={n_train}, test={len(X_test)}')\n",
        "  # print(f'X_FFT_train.shape: {X_FFT_train.shape}')\n",
        "  # print(f'X_train.shape: {X_train.shape}')\n",
        "  # Set up some params \n",
        "  if isEnsemble:\n",
        "    X_train = np.concatenate((X_train[:, np.newaxis, :, :], X_FFT_train[:, np.newaxis, :, :]), axis=1)\n",
        "    X_test = np.concatenate((X_test[:, np.newaxis, :, :], X_FFT_test[:, np.newaxis, :, :]), axis=1)\n",
        "  # print(X_train.shape)\n",
        "  # print(X_test.shape)\n",
        "  num_batches = len(X_train) // batch_size\n",
        "  epoch_size = batch_size * num_batches\n",
        "\n",
        "partition_dataset()"
      ],
      "execution_count": null,
      "outputs": []
    },
    {
      "cell_type": "markdown",
      "metadata": {
        "id": "rQfhV5JS7uHE"
      },
      "source": [
        "# Build the NN Model"
      ]
    },
    {
      "cell_type": "code",
      "metadata": {
        "id": "5G7pwT347uHF",
        "cellView": "form",
        "outputId": "6871a808-9df9-4377-fb5c-fd5a1a780489",
        "colab": {
          "base_uri": "https://localhost:8080/",
          "height": 1000
        }
      },
      "source": [
        "#@title Setting up the network\n",
        "#Pytorch\n",
        "dr = dropout\n",
        "class CNN2(nn.Module):\n",
        "    def __init__(self):\n",
        "        super(CNN2, self).__init__()\n",
        "        self.convPart = nn.Sequential(\n",
        "            # input is batch x 1 x 2 x 128\n",
        "            # (Reshape([1]+in_shp, input_shape=in_shp))  #  - Reshape [N,2,128] to [N,1,2,128] on input\n",
        "            nn.Conv2d(1, 256, kernel_size=(1, 3), padding=(0, 2)),\n",
        "            nn.ReLU(True),\n",
        "            nn.Dropout(dr),\n",
        "            # state size. batch x 256 x 2 x 130\n",
        "            nn.Conv2d(in_channels=256, out_channels=80, kernel_size=(2, 3), padding=(0, 2)),\n",
        "            nn.ReLU(True),\n",
        "            nn.Dropout(dr),\n",
        "            # state size. batch x 80 x 1 x 132\n",
        "        )\n",
        "        \n",
        "        self.firstLinearSize = 80 * 132\n",
        "        self.linPart = nn.Sequential(\n",
        "            nn.Linear(self.firstLinearSize, 256),\n",
        "            nn.ReLU(True),\n",
        "            nn.Dropout(dr),\n",
        "            # state size. batch x 256\n",
        "            nn.Linear(256, len(mods)),\n",
        "            nn.LogSoftmax(dim=1)\n",
        "        )\n",
        "\n",
        "    def forward(self, input):\n",
        "        out = self.convPart(input)\n",
        "        out = out.view(-1, self.firstLinearSize)\n",
        "        out = self.linPart(out)\n",
        "        #out = F.softmax(out, dim=1)\n",
        "        return out\n",
        "\n",
        "class CNN2_FFT(nn.Module):\n",
        "    def __init__(self):\n",
        "        super(CNN2_FFT, self).__init__()\n",
        "        self.convPart = nn.Sequential(\n",
        "            # input is batch x 1 x 4 x 128\n",
        "            # (Reshape([1]+in_shp, input_shape=in_shp))  #  - Reshape [N,2,128] to [N,1,2,128] on input\n",
        "            nn.Conv2d(1, 256, kernel_size=(1, 3), padding=(0, 2)),\n",
        "            nn.ReLU(True),\n",
        "            nn.Dropout(dr),\n",
        "            # state size. batch x 256 x 2 x 130\n",
        "            nn.Conv2d(in_channels=256, out_channels=80, kernel_size=(3, 3), padding=(0, 2)),\n",
        "            nn.ReLU(True),\n",
        "            nn.Dropout(dr),\n",
        "            # state size. batch x 80 x 2 x 132\n",
        "        )\n",
        "        \n",
        "        self.firstLinearSize = 80 * 132 * 2\n",
        "        self.linPart = nn.Sequential(\n",
        "            nn.Linear(self.firstLinearSize, 256),\n",
        "            nn.ReLU(True),\n",
        "            nn.Dropout(dr),\n",
        "            # state size. batch x 256\n",
        "            nn.Linear(256, len(mods)),\n",
        "            nn.LogSoftmax(dim=1)\n",
        "        )\n",
        "\n",
        "    def forward(self, input):\n",
        "        out = self.convPart(input)\n",
        "        out = out.view(-1, self.firstLinearSize)\n",
        "        out = self.linPart(out)\n",
        "        #out = F.softmax(out, dim=1)\n",
        "        return out\n",
        "\n",
        "\n",
        "class VGG(nn.Module):\n",
        "    def __init__(self):\n",
        "        super(VGG, self).__init__()\n",
        "        channels = vggChannels\n",
        "        self.convPart = nn.Sequential(\n",
        "            # input is batch x 1 x 2 x 128\n",
        "            # (Reshape([1]+in_shp, input_shape=in_shp))  #  - Reshape [N,2,128] to [N,1,2,128] on input\n",
        "            nn.Conv2d(in_channels=1, out_channels=channels, kernel_size=(2, 3), padding=(0, 1)),\n",
        "            nn.ReLU(True),\n",
        "            nn.MaxPool2d((1,2),(1,2)),\n",
        "            nn.Dropout(dr),\n",
        "            nn.Conv2d(in_channels=channels, out_channels=channels, kernel_size=(1, 3), padding=(0, 1)),\n",
        "            nn.ReLU(True),\n",
        "            nn.MaxPool2d((1,2),(1,2)),\n",
        "            nn.Dropout(dr),\n",
        "            nn.Conv2d(in_channels=channels, out_channels=channels, kernel_size=(1, 3), padding=(0, 1)),\n",
        "            nn.ReLU(True),\n",
        "            nn.MaxPool2d((1,2),(1,2)),\n",
        "            nn.Dropout(dr),\n",
        "            nn.Conv2d(in_channels=channels, out_channels=channels, kernel_size=(1, 3), padding=(0, 1)),\n",
        "            nn.ReLU(True),\n",
        "            nn.MaxPool2d((1,2),(1,2)),\n",
        "            nn.Dropout(dr)\n",
        "            # state size. batch x channels x 1 x 8\n",
        "            )\n",
        "        \n",
        "        self.firstLinearSize = channels * 8\n",
        "        self.linPart = nn.Sequential(\n",
        "            nn.Linear(self.firstLinearSize, 128),\n",
        "            nn.ReLU(True),\n",
        "            nn.Dropout(dr),\n",
        "            nn.Linear(128, 128),\n",
        "            nn.ReLU(True),\n",
        "            nn.Dropout(dr),\n",
        "            # state size. batch x 256\n",
        "            nn.Linear(128, len(mods)),\n",
        "            nn.LogSoftmax(dim=1)\n",
        "        )\n",
        "\n",
        "    def forward(self, input):\n",
        "        out = self.convPart(input)\n",
        "        out = out.view(-1, self.firstLinearSize)\n",
        "        out = self.linPart(out)\n",
        "        return out\n",
        "\n",
        "\n",
        "\n",
        "class Ensemble(nn.Module):\n",
        "    def __init__(self, isVGG = False):\n",
        "        super(Ensemble, self).__init__()\n",
        "        if isVGG == True:\n",
        "          self.modelTimeSamples = VGG()\n",
        "          self.modelFFTSamples = VGG()\n",
        "        else:\n",
        "          self.modelTimeSamples = CNN2()\n",
        "          self.modelFFTSamples = CNN2()\n",
        "        self.linPart = nn.Sequential(\n",
        "            nn.Linear(2*len(mods), len(mods)),\n",
        "            nn.LogSoftmax(dim=1)\n",
        "        )\n",
        "\n",
        "    def forward(self, input):\n",
        "        out = self.modelTimeSamples(input[:,0])\n",
        "        outFFT = self.modelFFTSamples(input[:,1]) \n",
        "        out = torch.cat((out, outFFT), 1)\n",
        "        out = out.view(-1, 2*len(mods))\n",
        "        out = self.linPart(out)\n",
        "        #out = F.softmax(out, dim=1)\n",
        "        return out\n",
        "\n",
        "# custom weights initialization #  to mean=0, stdev=0.2.\n",
        "def weights_init(m):\n",
        "    classname = m.__class__.__name__\n",
        "    if classname.find('Conv') != -1:\n",
        "        nn.init.normal_(m.weight.data, 0.0, 0.02)\n",
        "        nn.init.constant_(m.bias.data, 0)\n",
        "    elif classname.find('Linear') != -1:\n",
        "        nn.init.normal_(m.weight.data, 0.0, 0.02)\n",
        "        nn.init.constant_(m.bias.data, 0)\n",
        "\n",
        "def create_network():\n",
        "  global net, criterion, optimizer\n",
        "\n",
        "  net =  CNN2_FFT().to(device)\n",
        "  if networkType is not \"CNN2_FFT\":\n",
        "    if isVGG:\n",
        "      net =  VGG().to(device)\n",
        "    else:\n",
        "      net =  CNN2().to(device)\n",
        "    if isEnsemble:\n",
        "      net =  Ensemble(isVGG).to(device)\n",
        "  # Apply the weights_init function to randomly initialize all weights\n",
        "  net.apply(weights_init)\n",
        "\n",
        "  #criterion = nn.CrossEntropyLoss()\n",
        "  criterion = nn.NLLLoss()\n",
        "  optimizer = optim.Adam(net.parameters(), lr=learningRate, betas=(beta1, beta2))\n",
        "\n",
        "create_network()\n",
        "print(net)\n",
        "\n",
        "if isEnsemble:\n",
        "  summary(net, (2, 1, 2, 128))\n",
        "else:\n",
        "  if networkType is \"CNN2_FFT\":\n",
        "    summary(net, (1, 4, 128))\n",
        "  else:\n",
        "    summary(net, (1, 2, 128))\n",
        "\n"
      ],
      "execution_count": null,
      "outputs": [
        {
          "output_type": "stream",
          "text": [
            "VGG(\n",
            "  (convPart): Sequential(\n",
            "    (0): Conv2d(1, 1024, kernel_size=(2, 3), stride=(1, 1), padding=(0, 1))\n",
            "    (1): ReLU(inplace=True)\n",
            "    (2): MaxPool2d(kernel_size=(1, 2), stride=(1, 2), padding=0, dilation=1, ceil_mode=False)\n",
            "    (3): Dropout(p=0.5, inplace=False)\n",
            "    (4): Conv2d(1024, 1024, kernel_size=(1, 3), stride=(1, 1), padding=(0, 1))\n",
            "    (5): ReLU(inplace=True)\n",
            "    (6): MaxPool2d(kernel_size=(1, 2), stride=(1, 2), padding=0, dilation=1, ceil_mode=False)\n",
            "    (7): Dropout(p=0.5, inplace=False)\n",
            "    (8): Conv2d(1024, 1024, kernel_size=(1, 3), stride=(1, 1), padding=(0, 1))\n",
            "    (9): ReLU(inplace=True)\n",
            "    (10): MaxPool2d(kernel_size=(1, 2), stride=(1, 2), padding=0, dilation=1, ceil_mode=False)\n",
            "    (11): Dropout(p=0.5, inplace=False)\n",
            "    (12): Conv2d(1024, 1024, kernel_size=(1, 3), stride=(1, 1), padding=(0, 1))\n",
            "    (13): ReLU(inplace=True)\n",
            "    (14): MaxPool2d(kernel_size=(1, 2), stride=(1, 2), padding=0, dilation=1, ceil_mode=False)\n",
            "    (15): Dropout(p=0.5, inplace=False)\n",
            "  )\n",
            "  (linPart): Sequential(\n",
            "    (0): Linear(in_features=8192, out_features=128, bias=True)\n",
            "    (1): ReLU(inplace=True)\n",
            "    (2): Dropout(p=0.5, inplace=False)\n",
            "    (3): Linear(in_features=128, out_features=128, bias=True)\n",
            "    (4): ReLU(inplace=True)\n",
            "    (5): Dropout(p=0.5, inplace=False)\n",
            "    (6): Linear(in_features=128, out_features=11, bias=True)\n",
            "    (7): LogSoftmax(dim=1)\n",
            "  )\n",
            ")\n",
            "----------------------------------------------------------------\n",
            "        Layer (type)               Output Shape         Param #\n",
            "================================================================\n",
            "            Conv2d-1         [-1, 1024, 1, 128]           7,168\n",
            "              ReLU-2         [-1, 1024, 1, 128]               0\n",
            "         MaxPool2d-3          [-1, 1024, 1, 64]               0\n",
            "           Dropout-4          [-1, 1024, 1, 64]               0\n",
            "            Conv2d-5          [-1, 1024, 1, 64]       3,146,752\n",
            "              ReLU-6          [-1, 1024, 1, 64]               0\n",
            "         MaxPool2d-7          [-1, 1024, 1, 32]               0\n",
            "           Dropout-8          [-1, 1024, 1, 32]               0\n",
            "            Conv2d-9          [-1, 1024, 1, 32]       3,146,752\n",
            "             ReLU-10          [-1, 1024, 1, 32]               0\n",
            "        MaxPool2d-11          [-1, 1024, 1, 16]               0\n",
            "          Dropout-12          [-1, 1024, 1, 16]               0\n",
            "           Conv2d-13          [-1, 1024, 1, 16]       3,146,752\n",
            "             ReLU-14          [-1, 1024, 1, 16]               0\n",
            "        MaxPool2d-15           [-1, 1024, 1, 8]               0\n",
            "          Dropout-16           [-1, 1024, 1, 8]               0\n",
            "           Linear-17                  [-1, 128]       1,048,704\n",
            "             ReLU-18                  [-1, 128]               0\n",
            "          Dropout-19                  [-1, 128]               0\n",
            "           Linear-20                  [-1, 128]          16,512\n",
            "             ReLU-21                  [-1, 128]               0\n",
            "          Dropout-22                  [-1, 128]               0\n",
            "           Linear-23                   [-1, 11]           1,419\n",
            "       LogSoftmax-24                   [-1, 11]               0\n",
            "================================================================\n",
            "Total params: 10,514,059\n",
            "Trainable params: 10,514,059\n",
            "Non-trainable params: 0\n",
            "----------------------------------------------------------------\n",
            "Input size (MB): 0.00\n",
            "Forward/backward pass size (MB): 5.63\n",
            "Params size (MB): 40.11\n",
            "Estimated Total Size (MB): 45.74\n",
            "----------------------------------------------------------------\n"
          ],
          "name": "stdout"
        }
      ]
    },
    {
      "cell_type": "markdown",
      "metadata": {
        "id": "75WvJcjT7uHM"
      },
      "source": [
        "# Model training"
      ]
    },
    {
      "cell_type": "code",
      "metadata": {
        "id": "hcS_0PuxtPSa",
        "cellView": "form"
      },
      "source": [
        "#@title Training helper functions\n",
        "def prepare_data_into_batches(data, labels, permute, isEnsemble = False):\n",
        "  # Prepare data\n",
        "  if permute is True:\n",
        "    perm = torch.randperm(len(data))  # Shuffles along the first axis. shape = (tot_size, 2, 128) just like X_train\n",
        "  else:\n",
        "    perm = np.arange(len(data))\n",
        "\n",
        "  n_batches = len(data) // batch_size\n",
        "  tot_size = n_batches * batch_size\n",
        "  \n",
        "  shuffled = data[perm]\n",
        "  shuffled = shuffled[:tot_size]        # Cutting off the last part that is smaller than one batch.  shape = (tot_size, 2, 128) just like X_train\n",
        "  if isEnsemble:\n",
        "    prepared = shuffled.reshape(n_batches, -1, 2, 2, 128)  # Get into a shape that each element is a batch. \n",
        "    prepared = np.expand_dims(prepared, axis=3)           # Add a space for num_channels (it's 1 in our case).\n",
        "  else:\n",
        "    if networkType == \"CNN2_FFT\":\n",
        "      prepared = shuffled.reshape(n_batches, -1, 4, 128)\n",
        "    else:\n",
        "      prepared = shuffled.reshape(n_batches, -1, 2, 128)  # Get into a shape that each element is a batch. \n",
        "    prepared = np.expand_dims(prepared, axis=2)           # Add a space for num_channels (it's 1 in our case). \n",
        "\n",
        "  labels = labels[perm]\n",
        "  labels = labels[:tot_size]\n",
        "  labels = labels.reshape(n_batches, -1)\n",
        "  return prepared, labels\n",
        "  \n",
        "def get_batch_results(batch):\n",
        "  batchData = torch.from_numpy(batch[0]).to(device)\n",
        "  batchLabels = torch.from_numpy(batch[1]).to(device)\n",
        "  \n",
        "  output = net(batchData)\n",
        "  _, pred = torch.max(output.detach(), dim=1)\n",
        "  correct = torch.sum(pred.eq(batchLabels)).cpu().numpy()\n",
        "\n",
        "  return output, batchLabels, correct\n",
        "\n",
        "  \n",
        "def save_network(epoch):\n",
        "  path = f'{root}saved models/{networkType}/{networkType}_{dataSet}__epoch {epoch+1}.pth'\n",
        "  torch.save(netD.state_dict(), path)"
      ],
      "execution_count": null,
      "outputs": []
    },
    {
      "cell_type": "code",
      "metadata": {
        "id": "lVanAyA0q4pp",
        "cellView": "form"
      },
      "source": [
        "#@title Network training loop\n",
        "def train_network():\n",
        "  trainLoss = np.zeros(num_epochs)\n",
        "  testLoss = np.zeros(num_epochs)\n",
        "\n",
        "  startEpoch = 0\n",
        "  #loadPath = f'{root}saved models/epoch {100}.pt'\n",
        "  #filename = glob(loadPath)[0]\n",
        "  #net.load_state_dict(torch.load(filename))\n",
        "\n",
        "  for epoch in range(num_epochs):\n",
        "    totEpoch = epoch + startEpoch\n",
        "    print(f'epoch: {totEpoch + 1}/{num_epochs + startEpoch}, ', end='')\n",
        "    start = time.time()\n",
        "\n",
        "    trainData, trainLables = prepare_data_into_batches(X_train, Y_train, permute=True, isEnsemble=isEnsemble)\n",
        "    testData, testLables = prepare_data_into_batches(X_test, Y_test, permute=True, isEnsemble=isEnsemble)\n",
        "    \n",
        "    net.train()\n",
        "    correctTrain = 0\n",
        "    trainEpochloss = 0\n",
        "    for i, batch in enumerate(zip(trainData, trainLables)):\n",
        "      net.zero_grad()\n",
        "\n",
        "      output, batchLabels, correct = get_batch_results(batch)\n",
        "      loss = criterion(output, batchLabels)\n",
        "      loss.backward()\n",
        "      optimizer.step()\n",
        "\n",
        "      correctTrain += correct\n",
        "      trainEpochloss += loss\n",
        "\n",
        "    net.eval()\n",
        "    correctTest = 0\n",
        "    testEpochloss = 0\n",
        "    with torch.no_grad():\n",
        "      for i, batch in enumerate(zip(testData, testLables)):\n",
        "        output, batchLabels, correct = get_batch_results(batch)\n",
        "        correctTest += correct\n",
        "        testEpochloss += criterion(output, batchLabels)\n",
        "\n",
        "    trainAcc = correctTrain / epoch_size * 100\n",
        "    testAcc = correctTest / epoch_size * 100\n",
        "    trainLoss[epoch] = trainEpochloss / num_batches\n",
        "    testLoss[epoch] = testEpochloss / num_batches\n",
        "    print(f'train loss: {trainLoss[epoch]:.2f}, test loss: {testLoss[epoch]:.2f}, train accuracy: {trainAcc:.2f}%, test accuracy: {testAcc:.2f}%, elapsed time: {time.time() - start:.0f}s')\n",
        "    \n",
        "    # torch.save(net.state_dict(), f'{root}saved models/{networkType}/{networkType}_epoch{totEpoch+1}.pth')\n",
        "    return trainLoss, testLoss"
      ],
      "execution_count": null,
      "outputs": []
    },
    {
      "cell_type": "code",
      "metadata": {
        "id": "vYkEUf7CfaZa",
        "cellView": "form"
      },
      "source": [
        "#@title Train network!\n",
        "\n",
        "\n",
        "trainData, trainLables = prepare_data_into_batches(X_train, Y_train, permute=True, isEnsemble=isEnsemble)\n",
        "# print(trainData.shape)\n",
        "if loadTrainedModel is False:\n",
        "  trainLoss, testLoss = train_network()\n",
        "    # Show loss curves \n",
        "  plt.figure()\n",
        "  plt.title('Training performance')\n",
        "  plt.plot(trainLoss, label='train loss') \n",
        "  plt.plot(testLoss, label='test loss') \n",
        "  plt.legend()"
      ],
      "execution_count": null,
      "outputs": []
    },
    {
      "cell_type": "markdown",
      "metadata": {
        "id": "u6osgpBt7uHR"
      },
      "source": [
        "# Evaluate and Plot Model Performance"
      ]
    },
    {
      "cell_type": "code",
      "metadata": {
        "id": "F2S062N17uHb",
        "cellView": "form"
      },
      "source": [
        "#@title Confusion matrix helper functions\n",
        "def plot_confusion_matrix(cm, title='Confusion matrix', labels=[]):\n",
        "    plt.imshow(cm, interpolation='nearest', cmap=plt.cm.Blues)\n",
        "    plt.title(title)\n",
        "    plt.colorbar()\n",
        "    tick_marks = np.arange(len(labels))\n",
        "    plt.xticks(tick_marks, labels, rotation=45)\n",
        "    plt.yticks(tick_marks, labels)\n",
        "    plt.tight_layout()\n",
        "    plt.ylabel('True label')\n",
        "    plt.xlabel('Predicted label')\n",
        "\n",
        "\n",
        "def get_conf_from_batch(out, labels):\n",
        "  batch_conf = np.zeros([len(mods),len(mods)], dtype=int)\n",
        "  for i in range(len(labels)):\n",
        "    j = labels[i]              # true label\n",
        "    k = int(np.argmax(out[i]))   # predicted label\n",
        "    batch_conf[j,k] += 1\n",
        "  return batch_conf\n",
        "\n",
        "\n",
        "def prepare_batches(snr):\n",
        "    snrIndices = np.argwhere(test_SNRs==snr)\n",
        "    batches_per_snr = len(snrIndices) // batch_size\n",
        "    last_batch_size = np.remainder(len(snrIndices), batch_size)\n",
        "    \n",
        "    snr_x = X_test[snrIndices]\n",
        "    snr_y = Y_test[snrIndices]    \n",
        "\n",
        "    signals, lables = prepare_data_into_batches(snr_x, snr_y, permute=False, isEnsemble=isEnsemble)\n",
        "    \n",
        "    x_last_batch = snr_x[-last_batch_size:]\n",
        "    y_last_batch = snr_y[-last_batch_size:]\n",
        "    # print(x_last_batch.shape)\n",
        "    if isEnsemble:\n",
        "      x_last_batch = x_last_batch.reshape(-1, 2, 2, 128)  \n",
        "      x_last_batch = np.expand_dims(x_last_batch, axis=2) \n",
        "    else:\n",
        "      if networkType is \"CNN2_FFT\":\n",
        "        x_last_batch = x_last_batch.reshape(-1, 4, 128)  \n",
        "      else:\n",
        "        x_last_batch = x_last_batch.reshape(-1, 2, 128)\n",
        "      x_last_batch = np.expand_dims(x_last_batch, axis=1)          \n",
        "    # print(x_last_batch.shape)       \n",
        "    # y_last_batch = y_last_batch.reshape(-1)\n",
        "    \n",
        "    return signals, lables, x_last_batch, y_last_batch\n"
      ],
      "execution_count": null,
      "outputs": []
    },
    {
      "cell_type": "code",
      "metadata": {
        "scrolled": false,
        "id": "8hKr8pIR7uHl",
        "cellView": "form"
      },
      "source": [
        "#@title Model analysis helper functions\n",
        "def get_model_performance(plot_conf=False, save_conf=False, save_path=''):\n",
        "  acc = {}\n",
        "  net.eval()\n",
        "  for snr in snrs:\n",
        "    # print(f'SNR = {snr}dB: ', end='')\n",
        "    conf = np.zeros([len(mods),len(mods)], dtype=int)\n",
        "    confnorm = np.zeros([len(mods),len(mods)], dtype=float)\n",
        "    signals, lables, x_last_batch, y_last_batch = prepare_batches(snr)\n",
        "\n",
        "    for batch in zip(signals, lables):\n",
        "      output, batchLabels,_ = get_batch_results(batch)\n",
        "      conf += get_conf_from_batch(output.detach().cpu().numpy(), batchLabels)\n",
        "    # last partial batch\n",
        "    output, batchLabels,_ = get_batch_results((x_last_batch, y_last_batch))\n",
        "    conf += get_conf_from_batch(output.detach().cpu().numpy(), batchLabels)\n",
        "\n",
        "    for i in range(len(mods)):\n",
        "      row_sum = np.sum(conf[i,:])\n",
        "      if row_sum != 0:\n",
        "        confnorm[i,:] = conf[i,:] / row_sum\n",
        "\n",
        "    if plot_conf is True or save_conf is True: \n",
        "      plt.figure() \n",
        "      plot_confusion_matrix(confnorm, title=f'ConvNet Confusion Matrix (SNR={snr})', labels=mods)\n",
        "      if os.path.isdir(save_path) is False:\n",
        "        os.mkdir(save_path)\n",
        "      if save_conf is True:\n",
        "        plt.savefig(f'{save_path}SNR: {snr}dB')\n",
        "      if plot_conf is False:\n",
        "        plt.close()\n",
        "    cor = np.sum(np.diag(confnorm))\n",
        "    ncor = np.sum(confnorm) - cor\n",
        "    acc[snr] = cor/(cor+ncor) * 100\n",
        "  return acc\n",
        "\n",
        "\n",
        "def plot_accuracy_graph(acc, save_fig = False, save_path='', legend=[]):\n",
        "  plt.figure()\n",
        "  if len(legend) >= 2:\n",
        "    assert len(acc) == len(legend)\n",
        "    for model in acc:\n",
        "      plt.plot(list(model.keys()), list(model.values()))\n",
        "      plt.legend(legend)\n",
        "  else:\n",
        "    plt.plot(list(acc.keys()), list(acc.values()))\n",
        "  plt.grid()\n",
        "  data_name = 'new data' if dataSet ==\"RML2016.10a_dict\" else 'old data'\n",
        "  plt.title(f'model: {networkType}, {data_name}')\n",
        "  plt.xlabel(\"SNR [dB]\")\n",
        "  plt.ylabel(\"Classification Accuracy [%]\")\n",
        "\n",
        "  if save_fig is True:\n",
        "    plt.savefig(save_path)\n",
        "\n",
        "\n",
        "def analyze_model_history():\n",
        "  loadPath = f'{root}saved models/{networkType}/'#{networkType}_{dataSet}__epoch {epoch+1}.pth'\n",
        "  file_names = [f for f in os.listdir(loadPath) if os.path.isfile(os.path.join(loadPath, f)) and f.split('epoch')[0] != f and dataSet in f]\n",
        "  data_name = 'new data' if dataSet ==\"RML2016.10a_dict\" else 'old data'\n",
        "\n",
        "  # if the model has already been analyzed - return\n",
        "  stats_path = f'{root}saved results/{networkType}, {data_name}'\n",
        "  if os.path.isfile(stats_path):\n",
        "    return\n",
        "\n",
        "  # Go over all the models, evaluate them and save pickle\n",
        "  max_epoch = 0\n",
        "  for f in file_names:\n",
        "    max_epoch = max(max_epoch, int(f.split('epoch')[-1].split('.')[0]))\n",
        "  \n",
        "  acc = [None] * max_epoch\n",
        "  for i, f in enumerate(file_names):\n",
        "    epoch_num = int(f.split('epoch')[-1].split('.')[0])\n",
        "    if i % 10 == 0:\n",
        "      print(f'Model #: {i+1}/{len(file_names)}, epoch #: {epoch_num}')\n",
        "\n",
        "    net.load_state_dict(torch.load(f'{loadPath}{networkType}_{dataSet}_epoch{epoch_num}.pth'))\n",
        "    acc[epoch_num - 1] = get_model_performance(plot_conf=False)\n",
        "\n",
        "  fd = open(stats_path,'wb')\n",
        "  pickle.dump(acc , fd)\n",
        "  fd.close()\n",
        "\n",
        "\n",
        "def show_trained_results(show_conf=True):\n",
        "  loadPath = f'{root}saved models/{networkType}/'#{networkType}_{dataSet}__epoch {epoch+1}.pth'\n",
        "  file_names = [f for f in os.listdir(loadPath) if os.path.isfile(os.path.join(loadPath, f)) and f.split('epoch')[0] != f and dataSet in f]\n",
        "  data_name = 'new data' if dataSet ==\"RML2016.10a_dict\" else 'old data'\n",
        "\n",
        "  # Go over all the models, evaluate them and save pickle\n",
        "  max_epoch = 0\n",
        "  for f in file_names:\n",
        "    max_epoch = max(max_epoch, int(f.split('epoch')[-1].split('.')[0]))\n",
        "  \n",
        "  title = f'model: {networkType}, {data_name}'\n",
        "  snr_path = f'{root}saved results/snr graphs/{title}'\n",
        "  conf_path = f'{root}saved results/conf graphs/{title}/'\n",
        "  model_path = f'{loadPath}{networkType}_{dataSet}_epoch{max_epoch}.pth'\n",
        "  # Show the results of the last epoch\n",
        "  net.load_state_dict(torch.load(model_path))    \n",
        "  \n",
        "  acc = get_model_performance(plot_conf=show_conf, save_conf=True, save_path=conf_path)\n",
        "  plot_accuracy_graph(acc, save_fig=True, save_path=snr_path)\n",
        "\n",
        "  # detection_th = snrs[min(np.argwhere(np.array(list(acc.values())) > (50+100/22)))[0]]\n",
        "  # print(f'First snr better than 54.5% is: {detection_th}dB, accuracy at SNR=-6dB: {acc[-6]:.2f}%')\n",
        "\n",
        "    \n",
        "  "
      ],
      "execution_count": null,
      "outputs": []
    },
    {
      "cell_type": "code",
      "metadata": {
        "id": "CPqcxjXnisl-",
        "cellView": "both",
        "outputId": "8322636e-dd92-4e45-ad5f-8656877b4cb5",
        "colab": {
          "base_uri": "https://localhost:8080/",
          "height": 312
        }
      },
      "source": [
        "#@title Perform Single model analysis\n",
        "if loadTrainedModel is True:\n",
        "  dataSet = \"RML2016.10a_dict\"\n",
        "  if action == \"Analyze model history\":\n",
        "    print('Analyzing model history')\n",
        "    analyze_model_history()\n",
        "  if action == \"Show trained results\":\n",
        "    print('Showing trained results')\n",
        "    show_trained_results(show_conf=False)\n"
      ],
      "execution_count": null,
      "outputs": [
        {
          "output_type": "stream",
          "text": [
            "Showing trained results\n"
          ],
          "name": "stdout"
        },
        {
          "output_type": "display_data",
          "data": {
            "image/png": "[encoded data removed]",
            "text/plain": [
              "<Figure size 432x288 with 1 Axes>"
            ]
          },
          "metadata": {
            "tags": [],
            "needs_background": "light"
          }
        }
      ]
    },
    {
      "cell_type": "code",
      "metadata": {
        "id": "GUezT4CRv0na",
        "cellView": "both",
        "outputId": "e01acad5-1932-4add-cc3f-b9845511d92d",
        "colab": {
          "base_uri": "https://localhost:8080/",
          "height": 1000
        }
      },
      "source": [
        "#@title Analyze all saved models\n",
        "loadTrainedModel = True\n",
        "\n",
        "def analyze_all():\n",
        "  global networkType, dataSet, net\n",
        "  actions = [\"Analyze model\", \"Show trained results\"]\n",
        "  networkTypes = [\"CNN2\", \"CNN2_FFT\", \"CNN2_ENSEMBLE\", \"VGG\", \"VGG_ENSEMBLE\"]\n",
        "  dataSets = [\"RML2016.10a_dict\", \"2016.04C.multisnr\"]\n",
        "  for networkType in networkTypes:\n",
        "    print(networkType)\n",
        "    for dataSet in dataSets:\n",
        "      print(dataSet)\n",
        "      load_dataset()\n",
        "      partition_dataset()\n",
        "      create_network()\n",
        "      analyze_model_history()\n",
        "      show_trained_results(show_conf=False)\n",
        "\n",
        "analyze_all()\n"
      ],
      "execution_count": null,
      "outputs": [
        {
          "output_type": "stream",
          "text": [
            "CNN2\n",
            "RML2016.10a_dict\n",
            "2016.04C.multisnr\n",
            "Model #: 1/100, epoch #: 1\n",
            "Model #: 11/100, epoch #: 11\n",
            "Model #: 21/100, epoch #: 21\n",
            "Model #: 31/100, epoch #: 31\n",
            "Model #: 41/100, epoch #: 41\n",
            "Model #: 51/100, epoch #: 51\n",
            "Model #: 61/100, epoch #: 61\n",
            "Model #: 71/100, epoch #: 71\n",
            "Model #: 81/100, epoch #: 81\n",
            "Model #: 91/100, epoch #: 91\n",
            "CNN2_FFT\n",
            "RML2016.10a_dict\n",
            "Model #: 1/100, epoch #: 1\n",
            "Model #: 11/100, epoch #: 11\n",
            "Model #: 21/100, epoch #: 21\n",
            "Model #: 31/100, epoch #: 31\n",
            "Model #: 41/100, epoch #: 41\n",
            "Model #: 51/100, epoch #: 51\n",
            "Model #: 61/100, epoch #: 61\n",
            "Model #: 71/100, epoch #: 71\n",
            "Model #: 81/100, epoch #: 81\n",
            "Model #: 91/100, epoch #: 91\n",
            "2016.04C.multisnr\n",
            "Model #: 1/100, epoch #: 1\n",
            "Model #: 11/100, epoch #: 11\n",
            "Model #: 21/100, epoch #: 21\n",
            "Model #: 31/100, epoch #: 31\n",
            "Model #: 41/100, epoch #: 41\n",
            "Model #: 51/100, epoch #: 51\n",
            "Model #: 61/100, epoch #: 61\n",
            "Model #: 71/100, epoch #: 71\n",
            "Model #: 81/100, epoch #: 81\n",
            "Model #: 91/100, epoch #: 91\n",
            "CNN2_ENSEMBLE\n",
            "RML2016.10a_dict\n",
            "Model #: 1/100, epoch #: 1\n",
            "Model #: 11/100, epoch #: 11\n",
            "Model #: 21/100, epoch #: 21\n",
            "Model #: 31/100, epoch #: 31\n",
            "Model #: 41/100, epoch #: 41\n",
            "Model #: 51/100, epoch #: 51\n",
            "Model #: 61/100, epoch #: 61\n",
            "Model #: 71/100, epoch #: 71\n",
            "Model #: 81/100, epoch #: 81\n",
            "Model #: 91/100, epoch #: 91\n",
            "2016.04C.multisnr\n",
            "Model #: 1/100, epoch #: 1\n",
            "Model #: 11/100, epoch #: 11\n",
            "Model #: 21/100, epoch #: 21\n",
            "Model #: 31/100, epoch #: 31\n",
            "Model #: 41/100, epoch #: 41\n",
            "Model #: 51/100, epoch #: 51\n",
            "Model #: 61/100, epoch #: 61\n",
            "Model #: 71/100, epoch #: 71\n",
            "Model #: 81/100, epoch #: 81\n",
            "Model #: 91/100, epoch #: 91\n",
            "VGG\n",
            "RML2016.10a_dict\n",
            "Model #: 1/100, epoch #: 1\n",
            "Model #: 11/100, epoch #: 11\n",
            "Model #: 21/100, epoch #: 21\n",
            "Model #: 31/100, epoch #: 31\n",
            "Model #: 41/100, epoch #: 41\n",
            "Model #: 51/100, epoch #: 51\n",
            "Model #: 61/100, epoch #: 61\n",
            "Model #: 71/100, epoch #: 71\n",
            "Model #: 81/100, epoch #: 81\n",
            "Model #: 91/100, epoch #: 91\n",
            "2016.04C.multisnr\n",
            "Model #: 1/100, epoch #: 1\n",
            "Model #: 11/100, epoch #: 11\n",
            "Model #: 21/100, epoch #: 21\n",
            "Model #: 31/100, epoch #: 31\n",
            "Model #: 41/100, epoch #: 41\n",
            "Model #: 51/100, epoch #: 51\n",
            "Model #: 61/100, epoch #: 61\n",
            "Model #: 71/100, epoch #: 71\n",
            "Model #: 81/100, epoch #: 81\n",
            "Model #: 91/100, epoch #: 91\n",
            "VGG_ENSEMBLE\n",
            "RML2016.10a_dict\n",
            "Model #: 1/100, epoch #: 1\n",
            "Model #: 11/100, epoch #: 11\n",
            "Model #: 21/100, epoch #: 21\n",
            "Model #: 31/100, epoch #: 31\n",
            "Model #: 41/100, epoch #: 41\n",
            "Model #: 51/100, epoch #: 51\n",
            "Model #: 61/100, epoch #: 61\n",
            "Model #: 71/100, epoch #: 71\n",
            "Model #: 81/100, epoch #: 81\n",
            "Model #: 91/100, epoch #: 91\n",
            "2016.04C.multisnr\n",
            "Model #: 1/100, epoch #: 1\n",
            "Model #: 11/100, epoch #: 11\n",
            "Model #: 21/100, epoch #: 21\n",
            "Model #: 31/100, epoch #: 31\n",
            "Model #: 41/100, epoch #: 41\n",
            "Model #: 51/100, epoch #: 51\n",
            "Model #: 61/100, epoch #: 61\n",
            "Model #: 71/100, epoch #: 71\n",
            "Model #: 81/100, epoch #: 81\n",
            "Model #: 91/100, epoch #: 91\n"
          ],
          "name": "stdout"
        },
        {
          "output_type": "display_data",
          "data": {
            "image/png": "[encoded data removed]",
            "text/plain": [
              "<Figure size 432x288 with 1 Axes>"
            ]
          },
          "metadata": {
            "tags": [],
            "needs_background": "light"
          }
        },
        {
          "output_type": "display_data",
          "data": {
            "image/png": "[encoded data removed]",
            "text/plain": [
              "<Figure size 432x288 with 1 Axes>"
            ]
          },
          "metadata": {
            "tags": [],
            "needs_background": "light"
          }
        },
        {
          "output_type": "display_data",
          "data": {
            "image/png": "[encoded data removed]",
            "text/plain": [
              "<Figure size 432x288 with 1 Axes>"
            ]
          },
          "metadata": {
            "tags": [],
            "needs_background": "light"
          }
        },
        {
          "output_type": "display_data",
          "data": {
            "image/png": "[encoded data removed]",
            "text/plain": [
              "<Figure size 432x288 with 1 Axes>"
            ]
          },
          "metadata": {
            "tags": [],
            "needs_background": "light"
          }
        },
        {
          "output_type": "display_data",
          "data": {
            "image/png": "[encoded data removed]",
            "text/plain": [
              "<Figure size 432x288 with 1 Axes>"
            ]
          },
          "metadata": {
            "tags": [],
            "needs_background": "light"
          }
        },
        {
          "output_type": "display_data",
          "data": {
            "image/png": "[encoded data removed]",
            "text/plain": [
              "<Figure size 432x288 with 1 Axes>"
            ]
          },
          "metadata": {
            "tags": [],
            "needs_background": "light"
          }
        },
        {
          "output_type": "display_data",
          "data": {
            "image/png": "[encoded data removed]",
            "text/plain": [
              "<Figure size 432x288 with 1 Axes>"
            ]
          },
          "metadata": {
            "tags": [],
            "needs_background": "light"
          }
        },
        {
          "output_type": "display_data",
          "data": {
            "image/png": "[encoded data removed]",
            "text/plain": [
              "<Figure size 432x288 with 1 Axes>"
            ]
          },
          "metadata": {
            "tags": [],
            "needs_background": "light"
          }
        },
        {
          "output_type": "display_data",
          "data": {
            "image/png": "[encoded data removed]",
            "text/plain": [
              "<Figure size 432x288 with 1 Axes>"
            ]
          },
          "metadata": {
            "tags": [],
            "needs_background": "light"
          }
        },
        {
          "output_type": "display_data",
          "data": {
            "image/png": "[encoded data removed]",
            "text/plain": [
              "<Figure size 432x288 with 1 Axes>"
            ]
          },
          "metadata": {
            "tags": [],
            "needs_background": "light"
          }
        }
      ]
    },
    {
      "cell_type": "code",
      "metadata": {
        "id": "yybbsiNyv9Bi",
        "cellView": "both"
      },
      "source": [
        "##@title Compare models\n",
        "\n",
        "def comp_diff_data():\n",
        "  global networkType\n",
        "  networkTypes = [\"CNN2\", \"CNN2_FFT\", \"CNN2_ENSEMBLE\", \"VGG\", \"VGG_ENSEMBLE\"]\n",
        "  for networkType in networkTypes:\n",
        "    title = f'model: {networkType}, comp diff data'\n",
        "    old_data_path = f'{root}saved results/{networkType}, old data'\n",
        "    new_data_path = f'{root}saved results/{networkType}, new data'\n",
        "    fd = open(old_data_path, 'rb')\n",
        "    acc_old = pickle.load(fd)[-1]\n",
        "    fd.close()\n",
        "    fd = open(new_data_path, 'rb')\n",
        "    acc_new = pickle.load(fd)[-1]\n",
        "    fd.close()\n",
        "\n",
        "    plt.figure()\n",
        "    plot_accuracy_graph([acc_old, acc_new, save_fig=True, save_path=f'{root}saved results/snr graphs/{title}', legend=['old data','new data'])\n",
        "\n",
        "\n",
        "def comp_diff_nets():\n",
        "  accs = []\n",
        "  dataSets = [\"old data\", \"new data\"]\n",
        "  networkTypes = [\"CNN2\",\"CNN2_FFT\", \"CNN2_ENSEMBLE\", \"VGG\", \"VGG_ENSEMBLE\"]\n",
        "  for networkType in networkTypes:\n",
        "    title = f'data: {dataSet}, comp diff nets'\n",
        "    # data_path = f'{root}saved results/{networkType}, {dataSet}'\n",
        "    fd = open(data_path, 'rb')\n",
        "    accs.append(pickle.load(fd)[-1])\n",
        "    fd.close()\n",
        "\n",
        "    plt.figure()\n",
        "    plot_accuracy_graph(accs, save_fig=True, save_path=f'{root}saved results/snr graphs/{title}', legend=networkTypes)\n",
        "\n",
        "# dataSets = [\"RML2016.10a_dict\", \"2016.04C.multisnr\"]\n"
      ],
      "execution_count": null,
      "outputs": []
    },
    {
      "cell_type": "code",
      "metadata": {
        "id": "scBjVqfJ7eOZ"
      },
      "source": [
        "data_path = f'{root}saved results/{networkType}, {dataSet}'\n",
        "print(data_path)"
      ],
      "execution_count": null,
      "outputs": []
    },
    {
      "cell_type": "code",
      "metadata": {
        "id": "8_LPOcFe_Uc7"
      },
      "source": [
        "comp_diff_nets()"
      ],
      "execution_count": null,
      "outputs": []
    },
    {
      "cell_type": "code",
      "metadata": {
        "id": "OloLfGS1_wwD"
      },
      "source": [
        "comp_diff_data()"
      ],
      "execution_count": null,
      "outputs": []
    },
    {
      "cell_type": "code",
      "metadata": {
        "id": "TGszyBJNAHDx"
      },
      "source": [
        "title = f'model: {networkType}'\n",
        "old_data_path = f'{root}saved results/{networkType}, old data'\n",
        "new_data_path = f'{root}saved results/{networkType}, new data'\n",
        "fd = open(old_data_path, 'rb')\n",
        "acc_old = pickle.load(fd)\n",
        "fd.close()\n",
        "fd = open(new_data_path, 'rb')\n",
        "acc_new = pickle.load(fd)\n",
        "fd.close()\n",
        "\n",
        "plt.figure()\n",
        "plot_accuracy_graph([acc_old[-1], acc_new[-1]], save_fig=True, save_path=f'{root}saved results/snr graphs/{title}', legend=['old data','new data'])\n"
      ],
      "execution_count": null,
      "outputs": []
    },
    {
      "cell_type": "code",
      "metadata": {
        "id": "qiEEYwAzAV3M"
      },
      "source": [
        "a = [x for x in acc_old if x != None]\n",
        "len(a)"
      ],
      "execution_count": null,
      "outputs": []
    },
    {
      "cell_type": "code",
      "metadata": {
        "id": "v5UxJuzyAaz0"
      },
      "source": [
        "networkType = \"CNN2\"\n",
        "dataSet = \"RML2016.10a_dict\"\n",
        "load_dataset()\n",
        "partition_dataset()\n",
        "create_network()\n",
        "print(net)"
      ],
      "execution_count": null,
      "outputs": []
    }
  ]
}